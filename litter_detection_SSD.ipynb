{
  "cells": [
    {
      "cell_type": "code",
      "execution_count": null,
      "metadata": {
        "_cell_guid": "b1076dfc-b9ad-4769-8c92-a6c4dae69d19",
        "_uuid": "8f2839f25d086af736a60e9eeb907d3b93b6e0e5",
        "execution": {
          "iopub.execute_input": "2020-12-23T18:44:11.970723Z",
          "iopub.status.busy": "2020-12-23T18:44:11.969622Z",
          "iopub.status.idle": "2020-12-23T18:44:19.413490Z",
          "shell.execute_reply": "2020-12-23T18:44:19.412062Z"
        },
        "id": "llvQizMnLKN-",
        "papermill": {
          "duration": 7.467127,
          "end_time": "2020-12-23T18:44:19.413643",
          "exception": false,
          "start_time": "2020-12-23T18:44:11.946516",
          "status": "completed"
        },
        "tags": []
      },
      "outputs": [],
      "source": [
        "import numpy as np\n",
        "import pandas as pd\n",
        "import tensorflow as tf\n",
        "from PIL import Image\n",
        "from matplotlib import pyplot as plt\n",
        "from tensorflow.python.util import compat\n",
        "from tensorflow.core.protobuf import saved_model_pb2\n",
        "from google.protobuf import text_format\n",
        "import pprint\n",
        "import json\n",
        "import os\n"
      ]
    },
    {
      "cell_type": "code",
      "execution_count": null,
      "metadata": {
        "colab": {
          "base_uri": "https://localhost:8080/"
        },
        "execution": {
          "iopub.execute_input": "2020-12-23T18:44:19.461995Z",
          "iopub.status.busy": "2020-12-23T18:44:19.461243Z",
          "iopub.status.idle": "2020-12-23T18:44:42.167163Z",
          "shell.execute_reply": "2020-12-23T18:44:42.166454Z"
        },
        "id": "gCHa68nSLKN_",
        "outputId": "cea7069c-68dd-430b-84f3-12c7aa9d5dd1",
        "papermill": {
          "duration": 22.734447,
          "end_time": "2020-12-23T18:44:42.167310",
          "exception": false,
          "start_time": "2020-12-23T18:44:19.432863",
          "status": "completed"
        },
        "tags": []
      },
      "outputs": [
        {
          "name": "stdout",
          "output_type": "stream",
          "text": [
            "Cloning into 'models'...\n",
            "remote: Enumerating objects: 86090, done.\u001b[K\n",
            "remote: Counting objects: 100% (1689/1689), done.\u001b[K\n",
            "remote: Compressing objects: 100% (706/706), done.\u001b[K\n",
            "remote: Total 86090 (delta 1071), reused 1541 (delta 965), pack-reused 84401\n",
            "Receiving objects: 100% (86090/86090), 598.84 MiB | 31.14 MiB/s, done.\n",
            "Resolving deltas: 100% (61578/61578), done.\n"
          ]
        }
      ],
      "source": [
        "! rm -rf ./models && git clone https://github.com/tensorflow/models.git"
      ]
    },
    {
      "cell_type": "code",
      "execution_count": null,
      "metadata": {
        "colab": {
          "base_uri": "https://localhost:8080/"
        },
        "id": "L9-qE4zb8qFw",
        "outputId": "3c421a4b-1c2c-4109-b099-88da530a4681"
      },
      "outputs": [
        {
          "name": "stdout",
          "output_type": "stream",
          "text": [
            "Looking in indexes: https://pypi.org/simple, https://us-python.pkg.dev/colab-wheels/public/simple/\n",
            "Processing /content/models/research\n",
            "  Preparing metadata (setup.py) ... \u001b[?25l\u001b[?25hdone\n",
            "Collecting avro-python3 (from object-detection==0.1)\n",
            "  Using cached avro-python3-1.10.2.tar.gz (38 kB)\n",
            "  Preparing metadata (setup.py) ... \u001b[?25l\u001b[?25hdone\n",
            "Collecting apache-beam (from object-detection==0.1)\n",
            "  Using cached apache_beam-2.48.0-cp310-cp310-manylinux_2_17_x86_64.manylinux2014_x86_64.whl (14.3 MB)\n",
            "Requirement already satisfied: pillow in /usr/local/lib/python3.10/dist-packages (from object-detection==0.1) (8.4.0)\n",
            "Requirement already satisfied: lxml in /usr/local/lib/python3.10/dist-packages (from object-detection==0.1) (4.9.2)\n",
            "Requirement already satisfied: matplotlib in /usr/local/lib/python3.10/dist-packages (from object-detection==0.1) (3.7.1)\n",
            "Requirement already satisfied: Cython in /usr/local/lib/python3.10/dist-packages (from object-detection==0.1) (0.29.34)\n",
            "Requirement already satisfied: contextlib2 in /usr/local/lib/python3.10/dist-packages (from object-detection==0.1) (0.6.0.post1)\n",
            "Requirement already satisfied: tf-slim in /usr/local/lib/python3.10/dist-packages (from object-detection==0.1) (1.1.0)\n",
            "Requirement already satisfied: six in /usr/local/lib/python3.10/dist-packages (from object-detection==0.1) (1.16.0)\n",
            "Requirement already satisfied: pycocotools in /usr/local/lib/python3.10/dist-packages (from object-detection==0.1) (2.0.6)\n",
            "Collecting lvis (from object-detection==0.1)\n",
            "  Using cached lvis-0.5.3-py3-none-any.whl (14 kB)\n",
            "Requirement already satisfied: scipy in /usr/local/lib/python3.10/dist-packages (from object-detection==0.1) (1.10.1)\n",
            "Requirement already satisfied: pandas in /usr/local/lib/python3.10/dist-packages (from object-detection==0.1) (1.5.3)\n",
            "Collecting tf-models-official>=2.5.1 (from object-detection==0.1)\n",
            "  Using cached tf_models_official-2.12.0-py2.py3-none-any.whl (2.6 MB)\n",
            "Collecting tensorflow_io (from object-detection==0.1)\n",
            "  Using cached tensorflow_io-0.32.0-cp310-cp310-manylinux_2_12_x86_64.manylinux2010_x86_64.whl (28.0 MB)\n",
            "Requirement already satisfied: keras in /usr/local/lib/python3.10/dist-packages (from object-detection==0.1) (2.12.0)\n",
            "Collecting pyparsing==2.4.7 (from object-detection==0.1)\n",
            "  Using cached pyparsing-2.4.7-py2.py3-none-any.whl (67 kB)\n",
            "Collecting sacrebleu<=2.2.0 (from object-detection==0.1)\n",
            "  Using cached sacrebleu-2.2.0-py3-none-any.whl (116 kB)\n",
            "Collecting portalocker (from sacrebleu<=2.2.0->object-detection==0.1)\n",
            "  Using cached portalocker-2.7.0-py2.py3-none-any.whl (15 kB)\n",
            "Requirement already satisfied: regex in /usr/local/lib/python3.10/dist-packages (from sacrebleu<=2.2.0->object-detection==0.1) (2022.10.31)\n",
            "Requirement already satisfied: tabulate>=0.8.9 in /usr/local/lib/python3.10/dist-packages (from sacrebleu<=2.2.0->object-detection==0.1) (0.8.10)\n",
            "Requirement already satisfied: numpy>=1.17 in /usr/local/lib/python3.10/dist-packages (from sacrebleu<=2.2.0->object-detection==0.1) (1.22.4)\n",
            "Collecting colorama (from sacrebleu<=2.2.0->object-detection==0.1)\n",
            "  Using cached colorama-0.4.6-py2.py3-none-any.whl (25 kB)\n",
            "Requirement already satisfied: gin-config in /usr/local/lib/python3.10/dist-packages (from tf-models-official>=2.5.1->object-detection==0.1) (0.5.0)\n",
            "Requirement already satisfied: google-api-python-client>=1.6.7 in /usr/local/lib/python3.10/dist-packages (from tf-models-official>=2.5.1->object-detection==0.1) (2.84.0)\n",
            "Collecting immutabledict (from tf-models-official>=2.5.1->object-detection==0.1)\n",
            "  Using cached immutabledict-2.2.4-py3-none-any.whl (4.1 kB)\n",
            "Requirement already satisfied: kaggle>=1.3.9 in /usr/local/lib/python3.10/dist-packages (from tf-models-official>=2.5.1->object-detection==0.1) (1.5.13)\n",
            "Requirement already satisfied: oauth2client in /usr/local/lib/python3.10/dist-packages (from tf-models-official>=2.5.1->object-detection==0.1) (4.1.3)\n",
            "Requirement already satisfied: opencv-python-headless in /usr/local/lib/python3.10/dist-packages (from tf-models-official>=2.5.1->object-detection==0.1) (4.7.0.72)\n",
            "Requirement already satisfied: psutil>=5.4.3 in /usr/local/lib/python3.10/dist-packages (from tf-models-official>=2.5.1->object-detection==0.1) (5.9.5)\n",
            "Requirement already satisfied: py-cpuinfo>=3.3.0 in /usr/local/lib/python3.10/dist-packages (from tf-models-official>=2.5.1->object-detection==0.1) (9.0.0)\n",
            "Collecting pyyaml<6.0,>=5.1 (from tf-models-official>=2.5.1->object-detection==0.1)\n",
            "  Using cached PyYAML-5.4.1.tar.gz (175 kB)\n",
            "  Installing build dependencies ... \u001b[?25l\u001b[?25hdone\n",
            "  Getting requirements to build wheel ... \u001b[?25l\u001b[?25hdone\n",
            "  Preparing metadata (pyproject.toml) ... \u001b[?25l\u001b[?25hdone\n",
            "Collecting sentencepiece (from tf-models-official>=2.5.1->object-detection==0.1)\n",
            "  Downloading sentencepiece-0.1.99-cp310-cp310-manylinux_2_17_x86_64.manylinux2014_x86_64.whl (1.3 MB)\n",
            "\u001b[2K     \u001b[90m━━━━━━━━━━━━━━━━━━━━━━━━━━━━━━━━━━━━━━━━\u001b[0m \u001b[32m1.3/1.3 MB\u001b[0m \u001b[31m20.4 MB/s\u001b[0m eta \u001b[36m0:00:00\u001b[0m\n",
            "\u001b[?25hCollecting seqeval (from tf-models-official>=2.5.1->object-detection==0.1)\n",
            "  Downloading seqeval-1.2.2.tar.gz (43 kB)\n",
            "\u001b[2K     \u001b[90m━━━━━━━━━━━━━━━━━━━━━━━━━━━━━━━━━━━━━━━━\u001b[0m \u001b[32m43.6/43.6 kB\u001b[0m \u001b[31m5.7 MB/s\u001b[0m eta \u001b[36m0:00:00\u001b[0m\n",
            "\u001b[?25h  Preparing metadata (setup.py) ... \u001b[?25l\u001b[?25hdone\n",
            "Collecting tensorflow-addons (from tf-models-official>=2.5.1->object-detection==0.1)\n",
            "  Downloading tensorflow_addons-0.20.0-cp310-cp310-manylinux_2_17_x86_64.manylinux2014_x86_64.whl (591 kB)\n",
            "\u001b[2K     \u001b[90m━━━━━━━━━━━━━━━━━━━━━━━━━━━━━━━━━━━━━━\u001b[0m \u001b[32m591.0/591.0 kB\u001b[0m \u001b[31m51.2 MB/s\u001b[0m eta \u001b[36m0:00:00\u001b[0m\n",
            "\u001b[?25hRequirement already satisfied: tensorflow-datasets in /usr/local/lib/python3.10/dist-packages (from tf-models-official>=2.5.1->object-detection==0.1) (4.9.2)\n",
            "Requirement already satisfied: tensorflow-hub>=0.6.0 in /usr/local/lib/python3.10/dist-packages (from tf-models-official>=2.5.1->object-detection==0.1) (0.13.0)\n",
            "Collecting tensorflow-model-optimization>=0.4.1 (from tf-models-official>=2.5.1->object-detection==0.1)\n",
            "  Downloading tensorflow_model_optimization-0.7.5-py2.py3-none-any.whl (241 kB)\n",
            "\u001b[2K     \u001b[90m━━━━━━━━━━━━━━━━━━━━━━━━━━━━━━━━━━━━━━\u001b[0m \u001b[32m241.2/241.2 kB\u001b[0m \u001b[31m26.6 MB/s\u001b[0m eta \u001b[36m0:00:00\u001b[0m\n",
            "\u001b[?25hCollecting tensorflow-text~=2.12.0 (from tf-models-official>=2.5.1->object-detection==0.1)\n",
            "  Downloading tensorflow_text-2.12.1-cp310-cp310-manylinux_2_17_x86_64.manylinux2014_x86_64.whl (6.0 MB)\n",
            "\u001b[2K     \u001b[90m━━━━━━━━━━━━━━━━━━━━━━━━━━━━━━━━━━━━━━━━\u001b[0m \u001b[32m6.0/6.0 MB\u001b[0m \u001b[31m82.1 MB/s\u001b[0m eta \u001b[36m0:00:00\u001b[0m\n",
            "\u001b[?25hRequirement already satisfied: tensorflow~=2.12.0 in /usr/local/lib/python3.10/dist-packages (from tf-models-official>=2.5.1->object-detection==0.1) (2.12.0)\n",
            "Requirement already satisfied: python-dateutil>=2.8.1 in /usr/local/lib/python3.10/dist-packages (from pandas->object-detection==0.1) (2.8.2)\n",
            "Requirement already satisfied: pytz>=2020.1 in /usr/local/lib/python3.10/dist-packages (from pandas->object-detection==0.1) (2022.7.1)\n",
            "Requirement already satisfied: absl-py>=0.2.2 in /usr/local/lib/python3.10/dist-packages (from tf-slim->object-detection==0.1) (1.4.0)\n",
            "Collecting crcmod<2.0,>=1.7 (from apache-beam->object-detection==0.1)\n",
            "  Downloading crcmod-1.7.tar.gz (89 kB)\n",
            "\u001b[2K     \u001b[90m━━━━━━━━━━━━━━━━━━━━━━━━━━━━━━━━━━━━━━━━\u001b[0m \u001b[32m89.7/89.7 kB\u001b[0m \u001b[31m11.2 MB/s\u001b[0m eta \u001b[36m0:00:00\u001b[0m\n",
            "\u001b[?25h  Preparing metadata (setup.py) ... \u001b[?25l\u001b[?25hdone\n",
            "Collecting orjson<4.0 (from apache-beam->object-detection==0.1)\n",
            "  Downloading orjson-3.9.1-cp310-cp310-manylinux_2_17_x86_64.manylinux2014_x86_64.whl (136 kB)\n",
            "\u001b[2K     \u001b[90m━━━━━━━━━━━━━━━━━━━━━━━━━━━━━━━━━━━━━━\u001b[0m \u001b[32m137.0/137.0 kB\u001b[0m \u001b[31m19.4 MB/s\u001b[0m eta \u001b[36m0:00:00\u001b[0m\n",
            "\u001b[?25hCollecting dill<0.3.2,>=0.3.1.1 (from apache-beam->object-detection==0.1)\n",
            "  Downloading dill-0.3.1.1.tar.gz (151 kB)\n",
            "\u001b[2K     \u001b[90m━━━━━━━━━━━━━━━━━━━━━━━━━━━━━━━━━━━━━━\u001b[0m \u001b[32m152.0/152.0 kB\u001b[0m \u001b[31m20.9 MB/s\u001b[0m eta \u001b[36m0:00:00\u001b[0m\n",
            "\u001b[?25h  Preparing metadata (setup.py) ... \u001b[?25l\u001b[?25hdone\n",
            "Requirement already satisfied: cloudpickle~=2.2.1 in /usr/local/lib/python3.10/dist-packages (from apache-beam->object-detection==0.1) (2.2.1)\n",
            "Collecting fastavro<2,>=0.23.6 (from apache-beam->object-detection==0.1)\n",
            "  Downloading fastavro-1.7.4-cp310-cp310-manylinux_2_17_x86_64.manylinux2014_x86_64.whl (2.6 MB)\n",
            "\u001b[2K     \u001b[90m━━━━━━━━━━━━━━━━━━━━━━━━━━━━━━━━━━━━━━━━\u001b[0m \u001b[32m2.6/2.6 MB\u001b[0m \u001b[31m73.2 MB/s\u001b[0m eta \u001b[36m0:00:00\u001b[0m\n",
            "\u001b[?25hCollecting fasteners<1.0,>=0.3 (from apache-beam->object-detection==0.1)\n",
            "  Downloading fasteners-0.18-py3-none-any.whl (18 kB)\n",
            "Requirement already satisfied: grpcio!=1.48.0,<2,>=1.33.1 in /usr/local/lib/python3.10/dist-packages (from apache-beam->object-detection==0.1) (1.54.0)\n",
            "Collecting hdfs<3.0.0,>=2.1.0 (from apache-beam->object-detection==0.1)\n",
            "  Downloading hdfs-2.7.0-py3-none-any.whl (34 kB)\n",
            "Requirement already satisfied: httplib2<0.23.0,>=0.8 in /usr/local/lib/python3.10/dist-packages (from apache-beam->object-detection==0.1) (0.21.0)\n",
            "Collecting objsize<0.7.0,>=0.6.1 (from apache-beam->object-detection==0.1)\n",
            "  Downloading objsize-0.6.1-py3-none-any.whl (9.3 kB)\n",
            "Collecting pymongo<5.0.0,>=3.8.0 (from apache-beam->object-detection==0.1)\n",
            "  Downloading pymongo-4.3.3-cp310-cp310-manylinux_2_17_x86_64.manylinux2014_x86_64.whl (492 kB)\n",
            "\u001b[2K     \u001b[90m━━━━━━━━━━━━━━━━━━━━━━━━━━━━━━━━━━━━━━\u001b[0m \u001b[32m492.9/492.9 kB\u001b[0m \u001b[31m51.6 MB/s\u001b[0m eta \u001b[36m0:00:00\u001b[0m\n",
            "\u001b[?25hRequirement already satisfied: proto-plus<2,>=1.7.1 in /usr/local/lib/python3.10/dist-packages (from apache-beam->object-detection==0.1) (1.22.2)\n",
            "Requirement already satisfied: protobuf<4.24.0,>=3.20.3 in /usr/local/lib/python3.10/dist-packages (from apache-beam->object-detection==0.1) (3.20.3)\n",
            "Requirement already satisfied: pydot<2,>=1.2.0 in /usr/local/lib/python3.10/dist-packages (from apache-beam->object-detection==0.1) (1.4.2)\n",
            "Requirement already satisfied: requests<3.0.0,>=2.24.0 in /usr/local/lib/python3.10/dist-packages (from apache-beam->object-detection==0.1) (2.27.1)\n",
            "Requirement already satisfied: typing-extensions>=3.7.0 in /usr/local/lib/python3.10/dist-packages (from apache-beam->object-detection==0.1) (4.5.0)\n",
            "Collecting zstandard<1,>=0.18.0 (from apache-beam->object-detection==0.1)\n",
            "  Downloading zstandard-0.21.0-cp310-cp310-manylinux_2_17_x86_64.manylinux2014_x86_64.whl (2.7 MB)\n",
            "\u001b[2K     \u001b[90m━━━━━━━━━━━━━━━━━━━━━━━━━━━━━━━━━━━━━━━━\u001b[0m \u001b[32m2.7/2.7 MB\u001b[0m \u001b[31m103.9 MB/s\u001b[0m eta \u001b[36m0:00:00\u001b[0m\n",
            "\u001b[?25hRequirement already satisfied: pyarrow<12.0.0,>=3.0.0 in /usr/local/lib/python3.10/dist-packages (from apache-beam->object-detection==0.1) (9.0.0)\n",
            "Requirement already satisfied: cycler>=0.10.0 in /usr/local/lib/python3.10/dist-packages (from lvis->object-detection==0.1) (0.11.0)\n",
            "Requirement already satisfied: kiwisolver>=1.1.0 in /usr/local/lib/python3.10/dist-packages (from lvis->object-detection==0.1) (1.4.4)\n",
            "Requirement already satisfied: opencv-python>=4.1.0.25 in /usr/local/lib/python3.10/dist-packages (from lvis->object-detection==0.1) (4.7.0.72)\n",
            "Requirement already satisfied: contourpy>=1.0.1 in /usr/local/lib/python3.10/dist-packages (from matplotlib->object-detection==0.1) (1.0.7)\n",
            "Requirement already satisfied: fonttools>=4.22.0 in /usr/local/lib/python3.10/dist-packages (from matplotlib->object-detection==0.1) (4.39.3)\n",
            "Requirement already satisfied: packaging>=20.0 in /usr/local/lib/python3.10/dist-packages (from matplotlib->object-detection==0.1) (23.1)\n",
            "Requirement already satisfied: tensorflow-io-gcs-filesystem==0.32.0 in /usr/local/lib/python3.10/dist-packages (from tensorflow_io->object-detection==0.1) (0.32.0)\n",
            "Requirement already satisfied: google-auth<3.0.0dev,>=1.19.0 in /usr/local/lib/python3.10/dist-packages (from google-api-python-client>=1.6.7->tf-models-official>=2.5.1->object-detection==0.1) (2.17.3)\n",
            "Requirement already satisfied: google-auth-httplib2>=0.1.0 in /usr/local/lib/python3.10/dist-packages (from google-api-python-client>=1.6.7->tf-models-official>=2.5.1->object-detection==0.1) (0.1.0)\n",
            "Requirement already satisfied: google-api-core!=2.0.*,!=2.1.*,!=2.2.*,!=2.3.0,<3.0.0dev,>=1.31.5 in /usr/local/lib/python3.10/dist-packages (from google-api-python-client>=1.6.7->tf-models-official>=2.5.1->object-detection==0.1) (2.11.0)\n",
            "Requirement already satisfied: uritemplate<5,>=3.0.1 in /usr/local/lib/python3.10/dist-packages (from google-api-python-client>=1.6.7->tf-models-official>=2.5.1->object-detection==0.1) (4.1.1)\n",
            "Collecting docopt (from hdfs<3.0.0,>=2.1.0->apache-beam->object-detection==0.1)\n",
            "  Downloading docopt-0.6.2.tar.gz (25 kB)\n",
            "  Preparing metadata (setup.py) ... \u001b[?25l\u001b[?25hdone\n",
            "Requirement already satisfied: certifi in /usr/local/lib/python3.10/dist-packages (from kaggle>=1.3.9->tf-models-official>=2.5.1->object-detection==0.1) (2022.12.7)\n",
            "Requirement already satisfied: tqdm in /usr/local/lib/python3.10/dist-packages (from kaggle>=1.3.9->tf-models-official>=2.5.1->object-detection==0.1) (4.65.0)\n",
            "Requirement already satisfied: python-slugify in /usr/local/lib/python3.10/dist-packages (from kaggle>=1.3.9->tf-models-official>=2.5.1->object-detection==0.1) (8.0.1)\n",
            "Requirement already satisfied: urllib3 in /usr/local/lib/python3.10/dist-packages (from kaggle>=1.3.9->tf-models-official>=2.5.1->object-detection==0.1) (1.26.15)\n",
            "Collecting dnspython<3.0.0,>=1.16.0 (from pymongo<5.0.0,>=3.8.0->apache-beam->object-detection==0.1)\n",
            "  Downloading dnspython-2.3.0-py3-none-any.whl (283 kB)\n",
            "\u001b[2K     \u001b[90m━━━━━━━━━━━━━━━━━━━━━━━━━━━━━━━━━━━━━━\u001b[0m \u001b[32m283.7/283.7 kB\u001b[0m \u001b[31m34.2 MB/s\u001b[0m eta \u001b[36m0:00:00\u001b[0m\n",
            "\u001b[?25hRequirement already satisfied: charset-normalizer~=2.0.0 in /usr/local/lib/python3.10/dist-packages (from requests<3.0.0,>=2.24.0->apache-beam->object-detection==0.1) (2.0.12)\n",
            "Requirement already satisfied: idna<4,>=2.5 in /usr/local/lib/python3.10/dist-packages (from requests<3.0.0,>=2.24.0->apache-beam->object-detection==0.1) (3.4)\n",
            "Requirement already satisfied: astunparse>=1.6.0 in /usr/local/lib/python3.10/dist-packages (from tensorflow~=2.12.0->tf-models-official>=2.5.1->object-detection==0.1) (1.6.3)\n",
            "Requirement already satisfied: flatbuffers>=2.0 in /usr/local/lib/python3.10/dist-packages (from tensorflow~=2.12.0->tf-models-official>=2.5.1->object-detection==0.1) (23.3.3)\n",
            "Requirement already satisfied: gast<=0.4.0,>=0.2.1 in /usr/local/lib/python3.10/dist-packages (from tensorflow~=2.12.0->tf-models-official>=2.5.1->object-detection==0.1) (0.4.0)\n",
            "Requirement already satisfied: google-pasta>=0.1.1 in /usr/local/lib/python3.10/dist-packages (from tensorflow~=2.12.0->tf-models-official>=2.5.1->object-detection==0.1) (0.2.0)\n",
            "Requirement already satisfied: h5py>=2.9.0 in /usr/local/lib/python3.10/dist-packages (from tensorflow~=2.12.0->tf-models-official>=2.5.1->object-detection==0.1) (3.8.0)\n",
            "Requirement already satisfied: jax>=0.3.15 in /usr/local/lib/python3.10/dist-packages (from tensorflow~=2.12.0->tf-models-official>=2.5.1->object-detection==0.1) (0.4.10)\n",
            "Requirement already satisfied: libclang>=13.0.0 in /usr/local/lib/python3.10/dist-packages (from tensorflow~=2.12.0->tf-models-official>=2.5.1->object-detection==0.1) (16.0.0)\n",
            "Requirement already satisfied: opt-einsum>=2.3.2 in /usr/local/lib/python3.10/dist-packages (from tensorflow~=2.12.0->tf-models-official>=2.5.1->object-detection==0.1) (3.3.0)\n",
            "Requirement already satisfied: setuptools in /usr/local/lib/python3.10/dist-packages (from tensorflow~=2.12.0->tf-models-official>=2.5.1->object-detection==0.1) (67.7.2)\n",
            "Requirement already satisfied: tensorboard<2.13,>=2.12 in /usr/local/lib/python3.10/dist-packages (from tensorflow~=2.12.0->tf-models-official>=2.5.1->object-detection==0.1) (2.12.2)\n",
            "Requirement already satisfied: tensorflow-estimator<2.13,>=2.12.0 in /usr/local/lib/python3.10/dist-packages (from tensorflow~=2.12.0->tf-models-official>=2.5.1->object-detection==0.1) (2.12.0)\n",
            "Requirement already satisfied: termcolor>=1.1.0 in /usr/local/lib/python3.10/dist-packages (from tensorflow~=2.12.0->tf-models-official>=2.5.1->object-detection==0.1) (2.3.0)\n",
            "Requirement already satisfied: wrapt<1.15,>=1.11.0 in /usr/local/lib/python3.10/dist-packages (from tensorflow~=2.12.0->tf-models-official>=2.5.1->object-detection==0.1) (1.14.1)\n",
            "Requirement already satisfied: dm-tree~=0.1.1 in /usr/local/lib/python3.10/dist-packages (from tensorflow-model-optimization>=0.4.1->tf-models-official>=2.5.1->object-detection==0.1) (0.1.8)\n",
            "Collecting numpy>=1.17 (from sacrebleu<=2.2.0->object-detection==0.1)\n",
            "  Downloading numpy-1.23.5-cp310-cp310-manylinux_2_17_x86_64.manylinux2014_x86_64.whl (17.1 MB)\n",
            "\u001b[2K     \u001b[90m━━━━━━━━━━━━━━━━━━━━━━━━━━━━━━━━━━━━━━━━\u001b[0m \u001b[32m17.1/17.1 MB\u001b[0m \u001b[31m85.6 MB/s\u001b[0m eta \u001b[36m0:00:00\u001b[0m\n",
            "\u001b[?25hRequirement already satisfied: pyasn1>=0.1.7 in /usr/local/lib/python3.10/dist-packages (from oauth2client->tf-models-official>=2.5.1->object-detection==0.1) (0.5.0)\n",
            "Requirement already satisfied: pyasn1-modules>=0.0.5 in /usr/local/lib/python3.10/dist-packages (from oauth2client->tf-models-official>=2.5.1->object-detection==0.1) (0.3.0)\n",
            "Requirement already satisfied: rsa>=3.1.4 in /usr/local/lib/python3.10/dist-packages (from oauth2client->tf-models-official>=2.5.1->object-detection==0.1) (4.9)\n",
            "Requirement already satisfied: scikit-learn>=0.21.3 in /usr/local/lib/python3.10/dist-packages (from seqeval->tf-models-official>=2.5.1->object-detection==0.1) (1.2.2)\n",
            "Collecting typeguard<3.0.0,>=2.7 (from tensorflow-addons->tf-models-official>=2.5.1->object-detection==0.1)\n",
            "  Downloading typeguard-2.13.3-py3-none-any.whl (17 kB)\n",
            "Requirement already satisfied: array-record in /usr/local/lib/python3.10/dist-packages (from tensorflow-datasets->tf-models-official>=2.5.1->object-detection==0.1) (0.2.0)\n",
            "Requirement already satisfied: click in /usr/local/lib/python3.10/dist-packages (from tensorflow-datasets->tf-models-official>=2.5.1->object-detection==0.1) (8.1.3)\n",
            "Requirement already satisfied: etils[enp,epath]>=0.9.0 in /usr/local/lib/python3.10/dist-packages (from tensorflow-datasets->tf-models-official>=2.5.1->object-detection==0.1) (1.2.0)\n",
            "Requirement already satisfied: promise in /usr/local/lib/python3.10/dist-packages (from tensorflow-datasets->tf-models-official>=2.5.1->object-detection==0.1) (2.3)\n",
            "Requirement already satisfied: tensorflow-metadata in /usr/local/lib/python3.10/dist-packages (from tensorflow-datasets->tf-models-official>=2.5.1->object-detection==0.1) (1.13.1)\n",
            "Requirement already satisfied: toml in /usr/local/lib/python3.10/dist-packages (from tensorflow-datasets->tf-models-official>=2.5.1->object-detection==0.1) (0.10.2)\n",
            "Requirement already satisfied: wheel<1.0,>=0.23.0 in /usr/local/lib/python3.10/dist-packages (from astunparse>=1.6.0->tensorflow~=2.12.0->tf-models-official>=2.5.1->object-detection==0.1) (0.40.0)\n",
            "Requirement already satisfied: importlib_resources in /usr/local/lib/python3.10/dist-packages (from etils[enp,epath]>=0.9.0->tensorflow-datasets->tf-models-official>=2.5.1->object-detection==0.1) (5.12.0)\n",
            "Requirement already satisfied: zipp in /usr/local/lib/python3.10/dist-packages (from etils[enp,epath]>=0.9.0->tensorflow-datasets->tf-models-official>=2.5.1->object-detection==0.1) (3.15.0)\n",
            "Requirement already satisfied: googleapis-common-protos<2.0dev,>=1.56.2 in /usr/local/lib/python3.10/dist-packages (from google-api-core!=2.0.*,!=2.1.*,!=2.2.*,!=2.3.0,<3.0.0dev,>=1.31.5->google-api-python-client>=1.6.7->tf-models-official>=2.5.1->object-detection==0.1) (1.59.0)\n",
            "Requirement already satisfied: cachetools<6.0,>=2.0.0 in /usr/local/lib/python3.10/dist-packages (from google-auth<3.0.0dev,>=1.19.0->google-api-python-client>=1.6.7->tf-models-official>=2.5.1->object-detection==0.1) (5.3.0)\n",
            "Requirement already satisfied: ml-dtypes>=0.1.0 in /usr/local/lib/python3.10/dist-packages (from jax>=0.3.15->tensorflow~=2.12.0->tf-models-official>=2.5.1->object-detection==0.1) (0.1.0)\n",
            "Requirement already satisfied: joblib>=1.1.1 in /usr/local/lib/python3.10/dist-packages (from scikit-learn>=0.21.3->seqeval->tf-models-official>=2.5.1->object-detection==0.1) (1.2.0)\n",
            "Requirement already satisfied: threadpoolctl>=2.0.0 in /usr/local/lib/python3.10/dist-packages (from scikit-learn>=0.21.3->seqeval->tf-models-official>=2.5.1->object-detection==0.1) (3.1.0)\n",
            "Requirement already satisfied: google-auth-oauthlib<1.1,>=0.5 in /usr/local/lib/python3.10/dist-packages (from tensorboard<2.13,>=2.12->tensorflow~=2.12.0->tf-models-official>=2.5.1->object-detection==0.1) (1.0.0)\n",
            "Requirement already satisfied: markdown>=2.6.8 in /usr/local/lib/python3.10/dist-packages (from tensorboard<2.13,>=2.12->tensorflow~=2.12.0->tf-models-official>=2.5.1->object-detection==0.1) (3.4.3)\n",
            "Requirement already satisfied: tensorboard-data-server<0.8.0,>=0.7.0 in /usr/local/lib/python3.10/dist-packages (from tensorboard<2.13,>=2.12->tensorflow~=2.12.0->tf-models-official>=2.5.1->object-detection==0.1) (0.7.0)\n",
            "Requirement already satisfied: tensorboard-plugin-wit>=1.6.0 in /usr/local/lib/python3.10/dist-packages (from tensorboard<2.13,>=2.12->tensorflow~=2.12.0->tf-models-official>=2.5.1->object-detection==0.1) (1.8.1)\n",
            "Requirement already satisfied: werkzeug>=1.0.1 in /usr/local/lib/python3.10/dist-packages (from tensorboard<2.13,>=2.12->tensorflow~=2.12.0->tf-models-official>=2.5.1->object-detection==0.1) (2.3.0)\n",
            "Requirement already satisfied: text-unidecode>=1.3 in /usr/local/lib/python3.10/dist-packages (from python-slugify->kaggle>=1.3.9->tf-models-official>=2.5.1->object-detection==0.1) (1.3)\n",
            "Requirement already satisfied: requests-oauthlib>=0.7.0 in /usr/local/lib/python3.10/dist-packages (from google-auth-oauthlib<1.1,>=0.5->tensorboard<2.13,>=2.12->tensorflow~=2.12.0->tf-models-official>=2.5.1->object-detection==0.1) (1.3.1)\n",
            "Requirement already satisfied: MarkupSafe>=2.1.1 in /usr/local/lib/python3.10/dist-packages (from werkzeug>=1.0.1->tensorboard<2.13,>=2.12->tensorflow~=2.12.0->tf-models-official>=2.5.1->object-detection==0.1) (2.1.2)\n",
            "Requirement already satisfied: oauthlib>=3.0.0 in /usr/local/lib/python3.10/dist-packages (from requests-oauthlib>=0.7.0->google-auth-oauthlib<1.1,>=0.5->tensorboard<2.13,>=2.12->tensorflow~=2.12.0->tf-models-official>=2.5.1->object-detection==0.1) (3.2.2)\n",
            "Building wheels for collected packages: object-detection, avro-python3, crcmod, dill, pyyaml, seqeval, docopt\n",
            "  Building wheel for object-detection (setup.py) ... \u001b[?25l\u001b[?25hdone\n",
            "  Created wheel for object-detection: filename=object_detection-0.1-py3-none-any.whl size=1696986 sha256=9ac7a884214f5d7142f6c1b24e81700b2406503dc1bb546fd6236c422ca8eaf7\n",
            "  Stored in directory: /tmp/pip-ephem-wheel-cache-hq8z8_2i/wheels/53/dd/70/2de274d6c443c69d367bd6a5606f95e5a6df61aacf1435ec0d\n",
            "  Building wheel for avro-python3 (setup.py) ... \u001b[?25l\u001b[?25hdone\n",
            "  Created wheel for avro-python3: filename=avro_python3-1.10.2-py3-none-any.whl size=43994 sha256=69b50e35740bc9b3c4caafeed4c2da51c23da6d3bc4b6a1d5bf4c2ec6c014dff\n",
            "  Stored in directory: /root/.cache/pip/wheels/bc/85/62/6cdd81c56f923946b401cecff38055b94c9b766927f7d8ca82\n",
            "  Building wheel for crcmod (setup.py) ... \u001b[?25l\u001b[?25hdone\n",
            "  Created wheel for crcmod: filename=crcmod-1.7-cp310-cp310-linux_x86_64.whl size=37103 sha256=2fab24bc258a245cb498424b0f736e6d0f6d74f5ce02f8e85346f6fca1e186cb\n",
            "  Stored in directory: /root/.cache/pip/wheels/85/4c/07/72215c529bd59d67e3dac29711d7aba1b692f543c808ba9e86\n",
            "  Building wheel for dill (setup.py) ... \u001b[?25l\u001b[?25hdone\n",
            "  Created wheel for dill: filename=dill-0.3.1.1-py3-none-any.whl size=78545 sha256=af7a1ef42ba7ed487273f85ac8fff5a70a0f122942e59af5201f84dc4fc156ca\n",
            "  Stored in directory: /root/.cache/pip/wheels/ea/e2/86/64980d90e297e7bf2ce588c2b96e818f5399c515c4bb8a7e4f\n",
            "  Building wheel for pyyaml (pyproject.toml) ... \u001b[?25l\u001b[?25hdone\n",
            "  Created wheel for pyyaml: filename=PyYAML-5.4.1-cp310-cp310-linux_x86_64.whl size=45658 sha256=2db08d0be64e746deb7e16a03390f7811c96dc762ae82a96e2aa03000a12ed26\n",
            "  Stored in directory: /root/.cache/pip/wheels/c7/0d/22/696ee92245ad710f506eee79bb05c740d8abccd3ecdb778683\n",
            "  Building wheel for seqeval (setup.py) ... \u001b[?25l\u001b[?25hdone\n",
            "  Created wheel for seqeval: filename=seqeval-1.2.2-py3-none-any.whl size=16165 sha256=90f47c489bfb723d3f9bb7380bafcc320cfe39e0a7c99a2d05ed60b6c0f69f55\n",
            "  Stored in directory: /root/.cache/pip/wheels/1a/67/4a/ad4082dd7dfc30f2abfe4d80a2ed5926a506eb8a972b4767fa\n",
            "  Building wheel for docopt (setup.py) ... \u001b[?25l\u001b[?25hdone\n",
            "  Created wheel for docopt: filename=docopt-0.6.2-py2.py3-none-any.whl size=13707 sha256=bf6198c0aaa5e6d97e8adcf7cf37ecee4734625e6e64dd4ec3d160cf16b4f38c\n",
            "  Stored in directory: /root/.cache/pip/wheels/fc/ab/d4/5da2067ac95b36618c629a5f93f809425700506f72c9732fac\n",
            "Successfully built object-detection avro-python3 crcmod dill pyyaml seqeval docopt\n",
            "Installing collected packages: sentencepiece, docopt, crcmod, zstandard, typeguard, tensorflow_io, pyyaml, pyparsing, portalocker, orjson, objsize, numpy, immutabledict, fasteners, fastavro, dnspython, dill, colorama, avro-python3, tensorflow-model-optimization, tensorflow-addons, sacrebleu, pymongo, hdfs, apache-beam, seqeval, lvis, tensorflow-text, tf-models-official, object-detection\n",
            "  Attempting uninstall: pyyaml\n",
            "    Found existing installation: PyYAML 6.0\n",
            "    Uninstalling PyYAML-6.0:\n",
            "      Successfully uninstalled PyYAML-6.0\n",
            "  Attempting uninstall: pyparsing\n",
            "    Found existing installation: pyparsing 3.0.9\n",
            "    Uninstalling pyparsing-3.0.9:\n",
            "      Successfully uninstalled pyparsing-3.0.9\n",
            "  Attempting uninstall: numpy\n",
            "    Found existing installation: numpy 1.22.4\n",
            "    Uninstalling numpy-1.22.4:\n",
            "      Successfully uninstalled numpy-1.22.4\n",
            "Successfully installed apache-beam-2.48.0 avro-python3-1.10.2 colorama-0.4.6 crcmod-1.7 dill-0.3.1.1 dnspython-2.3.0 docopt-0.6.2 fastavro-1.7.4 fasteners-0.18 hdfs-2.7.0 immutabledict-2.2.4 lvis-0.5.3 numpy-1.23.5 object-detection-0.1 objsize-0.6.1 orjson-3.9.1 portalocker-2.7.0 pymongo-4.3.3 pyparsing-2.4.7 pyyaml-5.4.1 sacrebleu-2.2.0 sentencepiece-0.1.99 seqeval-1.2.2 tensorflow-addons-0.20.0 tensorflow-model-optimization-0.7.5 tensorflow-text-2.12.1 tensorflow_io-0.32.0 tf-models-official-2.12.0 typeguard-2.13.3 zstandard-0.21.0\n"
          ]
        }
      ],
      "source": [
        "!cd models/research && protoc object_detection/protos/*.proto --python_out=. && cp object_detection/packages/tf2/setup.py . && python3 -m pip install ."
      ]
    },
    {
      "cell_type": "code",
      "execution_count": null,
      "metadata": {
        "id": "lbGVSKKtpbW7"
      },
      "outputs": [],
      "source": [
        "# ! sed -i \"s#ImageFont.truetype('arial.ttf', 24)#ImageFont.truetype('arial.ttf', 50)#g\" ./models/research/object_detection/utils/visualization_utils.py\n",
        "# ! protoc /content/models/research/object_detection/protos/*.proto --python_out=.\n",
        "# ! cp /content/models/research/object_detection/packages/tf2/setup.py .\n",
        "# ! pip install .\n",
        "# ! pip install --use-feature=2020-resolver .\n",
        "# ! pip install --upgrade pip"
      ]
    },
    {
      "cell_type": "code",
      "execution_count": null,
      "metadata": {
        "id": "vLtgTgWoqHuk"
      },
      "outputs": [],
      "source": [
        "from object_detection.utils import visualization_utils as vis_util\n",
        "from object_detection.utils import dataset_util, label_map_util\n",
        "from object_detection.protos import string_int_label_map_pb2"
      ]
    },
    {
      "cell_type": "code",
      "execution_count": null,
      "metadata": {
        "execution": {
          "iopub.execute_input": "2020-12-23T18:45:28.317865Z",
          "iopub.status.busy": "2020-12-23T18:45:28.317140Z",
          "iopub.status.idle": "2020-12-23T18:45:28.320661Z",
          "shell.execute_reply": "2020-12-23T18:45:28.320087Z"
        },
        "id": "OBgEVBvfLKOA",
        "papermill": {
          "duration": 0.110878,
          "end_time": "2020-12-23T18:45:28.320792",
          "exception": false,
          "start_time": "2020-12-23T18:45:28.209914",
          "status": "completed"
        },
        "tags": []
      },
      "outputs": [],
      "source": [
        "def reconstruct(pb_path):\n",
        "    if not os.path.isfile(pb_path):\n",
        "        print(\"Error: %s not found\" % pb_path)\n",
        "\n",
        "    print(\"Reconstructing Tensorflow model\")\n",
        "    detection_graph = tf.Graph()\n",
        "    with detection_graph.as_default():\n",
        "        od_graph_def = tf.compat.v1.GraphDef()\n",
        "        with tf.io.gfile.GFile(pb_path, 'rb') as fid:\n",
        "            serialized_graph = fid.read()\n",
        "            od_graph_def.ParseFromString(serialized_graph)\n",
        "            tf.import_graph_def(od_graph_def, name='')\n",
        "    print(\"Success!\")\n",
        "    return detection_graph"
      ]
    },
    {
      "cell_type": "code",
      "execution_count": null,
      "metadata": {
        "id": "ALx4VFUlNN_d"
      },
      "outputs": [],
      "source": [
        "def image2np(image):\n",
        "    (w, h) = image.size\n",
        "    return np.array(image.getdata()).reshape((h, w, 3)).astype(np.uint8)"
      ]
    },
    {
      "cell_type": "code",
      "execution_count": null,
      "metadata": {
        "id": "dxd8efGdNPy0"
      },
      "outputs": [],
      "source": [
        "def image2tensor(image):\n",
        "    npim = image2np(image)\n",
        "    return np.expand_dims(npim, axis=0)"
      ]
    },
    {
      "cell_type": "code",
      "execution_count": null,
      "metadata": {
        "_cell_guid": "79c7e3d0-c299-4dcb-8224-4455121ee9b0",
        "_uuid": "d629ff2d2480ee46fbb7e2d37f6b5fab8052498a",
        "execution": {
          "iopub.execute_input": "2020-12-23T18:45:28.517214Z",
          "iopub.status.busy": "2020-12-23T18:45:28.516517Z",
          "iopub.status.idle": "2020-12-23T18:45:28.540703Z",
          "shell.execute_reply": "2020-12-23T18:45:28.541327Z"
        },
        "id": "uE6woOb3LKOA",
        "papermill": {
          "duration": 0.127284,
          "end_time": "2020-12-23T18:45:28.541509",
          "exception": false,
          "start_time": "2020-12-23T18:45:28.414225",
          "status": "completed"
        },
        "tags": []
      },
      "outputs": [],
      "source": [
        "def detect(detection_graph, test_image_path):\n",
        "    with detection_graph.as_default():\n",
        "        gpu_options = tf.compat.v1.GPUOptions(per_process_gpu_memory_fraction=0.01)\n",
        "        with tf.compat.v1.Session(graph=detection_graph,config=tf.compat.v1.ConfigProto(gpu_options=gpu_options)) as sess:\n",
        "            image_tensor = detection_graph.get_tensor_by_name('image_tensor:0')\n",
        "            detection_boxes = detection_graph.get_tensor_by_name('detection_boxes:0')\n",
        "            detection_scores = detection_graph.get_tensor_by_name('detection_scores:0')\n",
        "            detection_classes = detection_graph.get_tensor_by_name('detection_classes:0')\n",
        "            num_detections = detection_graph.get_tensor_by_name('num_detections:0')\n",
        "\n",
        "            image = Image.open(test_image_path)\n",
        "            (boxes, scores, classes, num) = sess.run(\n",
        "                [detection_boxes, detection_scores, detection_classes, num_detections],\n",
        "                feed_dict={image_tensor: image2tensor(image)}\n",
        "            )\n",
        "\n",
        "            npim = image2np(image)\n",
        "            vis_util.visualize_boxes_and_labels_on_image_array(\n",
        "                npim,\n",
        "                np.squeeze(boxes),\n",
        "                np.squeeze(classes).astype(np.int32),\n",
        "                np.squeeze(scores),\n",
        "                category_index,\n",
        "                use_normalized_coordinates=True,\n",
        "                line_thickness=15)\n",
        "            plt.figure(figsize=(12, 8))\n",
        "            plt.imshow(npim)\n",
        "            plt.show()"
      ]
    },
    {
      "cell_type": "code",
      "execution_count": null,
      "metadata": {
        "colab": {
          "base_uri": "https://localhost:8080/"
        },
        "id": "QWe_B8xeMnvH",
        "outputId": "75cac084-5d59-453d-855e-4e1d6f8cbe80"
      },
      "outputs": [
        {
          "name": "stdout",
          "output_type": "stream",
          "text": [
            "Warning: Your Kaggle API key is readable by other users on this system! To fix this, you can run 'chmod 600 /root/.kaggle/kaggle.json'\n",
            "Downloading tacotrashdataset.zip to /content\n",
            "100% 2.78G/2.79G [00:17<00:00, 266MB/s]\n",
            "100% 2.79G/2.79G [00:17<00:00, 172MB/s]\n"
          ]
        }
      ],
      "source": [
        "! kaggle datasets download -d kneroma/tacotrashdataset"
      ]
    },
    {
      "cell_type": "code",
      "execution_count": null,
      "metadata": {
        "id": "ZQ8xGkVI-RIO"
      },
      "outputs": [],
      "source": [
        "!unzip -qq tacotrashdataset.zip"
      ]
    },
    {
      "cell_type": "code",
      "execution_count": null,
      "metadata": {
        "id": "TVjxSQsEMrlm"
      },
      "outputs": [],
      "source": []
    },
    {
      "cell_type": "code",
      "execution_count": null,
      "metadata": {
        "execution": {
          "iopub.execute_input": "2020-12-23T18:45:29.116054Z",
          "iopub.status.busy": "2020-12-23T18:45:29.115094Z",
          "iopub.status.idle": "2020-12-23T18:45:29.118229Z",
          "shell.execute_reply": "2020-12-23T18:45:29.117716Z"
        },
        "id": "Pv_Vq1axLKOB",
        "papermill": {
          "duration": 0.10422,
          "end_time": "2020-12-23T18:45:29.118346",
          "exception": false,
          "start_time": "2020-12-23T18:45:29.014126",
          "status": "completed"
        },
        "tags": []
      },
      "outputs": [],
      "source": [
        "path = '/content/data'\n",
        "annotation_file = os.path.join(path, 'annotations.json')"
      ]
    },
    {
      "cell_type": "code",
      "execution_count": null,
      "metadata": {
        "execution": {
          "iopub.execute_input": "2020-12-23T18:45:29.314165Z",
          "iopub.status.busy": "2020-12-23T18:45:29.313511Z",
          "iopub.status.idle": "2020-12-23T18:45:29.800870Z",
          "shell.execute_reply": "2020-12-23T18:45:29.801511Z"
        },
        "id": "Kj4O3VnQLKOB",
        "papermill": {
          "duration": 0.588797,
          "end_time": "2020-12-23T18:45:29.801697",
          "exception": false,
          "start_time": "2020-12-23T18:45:29.212900",
          "status": "completed"
        },
        "tags": []
      },
      "outputs": [],
      "source": [
        "with open(annotation_file) as json_file:\n",
        "    data = json.load(json_file)\n",
        "\n",
        "categories = data['categories']"
      ]
    },
    {
      "cell_type": "code",
      "execution_count": null,
      "metadata": {
        "colab": {
          "base_uri": "https://localhost:8080/"
        },
        "execution": {
          "iopub.execute_input": "2020-12-23T18:45:29.994946Z",
          "iopub.status.busy": "2020-12-23T18:45:29.994184Z",
          "iopub.status.idle": "2020-12-23T18:45:30.030228Z",
          "shell.execute_reply": "2020-12-23T18:45:30.031079Z"
        },
        "id": "gqhIUQNqLKOB",
        "outputId": "f86ccbf8-8c8e-41c3-e802-299840a9af7c",
        "papermill": {
          "duration": 0.134128,
          "end_time": "2020-12-23T18:45:30.031325",
          "exception": false,
          "start_time": "2020-12-23T18:45:29.897197",
          "status": "completed"
        },
        "tags": []
      },
      "outputs": [
        {
          "name": "stdout",
          "output_type": "stream",
          "text": [
            "Building label map from examples\n",
            "Label map witten to labelmap.pbtxt\n",
            "['item {\\n',\n",
            " '  name: \"Aluminium foil\"\\n',\n",
            " '  id: 1\\n',\n",
            " '}\\n',\n",
            " 'item {\\n',\n",
            " '  name: \"Battery\"\\n',\n",
            " '  id: 2\\n',\n",
            " '}\\n',\n",
            " 'item {\\n',\n",
            " '  name: \"Aluminium blister pack\"\\n',\n",
            " '  id: 3\\n',\n",
            " '}\\n',\n",
            " 'item {\\n',\n",
            " '  name: \"Carded blister pack\"\\n',\n",
            " '  id: 4\\n',\n",
            " '}\\n',\n",
            " 'item {\\n',\n",
            " '  name: \"Other plastic bottle\"\\n',\n",
            " '  id: 5\\n',\n",
            " '}\\n',\n",
            " 'item {\\n',\n",
            " '  name: \"Clear plastic bottle\"\\n',\n",
            " '  id: 6\\n',\n",
            " '}\\n',\n",
            " 'item {\\n',\n",
            " '  name: \"Glass bottle\"\\n',\n",
            " '  id: 7\\n',\n",
            " '}\\n',\n",
            " 'item {\\n',\n",
            " '  name: \"Plastic bottle cap\"\\n',\n",
            " '  id: 8\\n',\n",
            " '}\\n',\n",
            " 'item {\\n',\n",
            " '  name: \"Metal bottle cap\"\\n',\n",
            " '  id: 9\\n',\n",
            " '}\\n',\n",
            " 'item {\\n',\n",
            " '  name: \"Broken glass\"\\n',\n",
            " '  id: 10\\n',\n",
            " '}\\n',\n",
            " 'item {\\n',\n",
            " '  name: \"Food Can\"\\n',\n",
            " '  id: 11\\n',\n",
            " '}\\n',\n",
            " 'item {\\n',\n",
            " '  name: \"Aerosol\"\\n',\n",
            " '  id: 12\\n',\n",
            " '}\\n',\n",
            " 'item {\\n',\n",
            " '  name: \"Drink can\"\\n',\n",
            " '  id: 13\\n',\n",
            " '}\\n',\n",
            " 'item {\\n',\n",
            " '  name: \"Toilet tube\"\\n',\n",
            " '  id: 14\\n',\n",
            " '}\\n',\n",
            " 'item {\\n',\n",
            " '  name: \"Other carton\"\\n',\n",
            " '  id: 15\\n',\n",
            " '}\\n',\n",
            " 'item {\\n',\n",
            " '  name: \"Egg carton\"\\n',\n",
            " '  id: 16\\n',\n",
            " '}\\n',\n",
            " 'item {\\n',\n",
            " '  name: \"Drink carton\"\\n',\n",
            " '  id: 17\\n',\n",
            " '}\\n',\n",
            " 'item {\\n',\n",
            " '  name: \"Corrugated carton\"\\n',\n",
            " '  id: 18\\n',\n",
            " '}\\n',\n",
            " 'item {\\n',\n",
            " '  name: \"Meal carton\"\\n',\n",
            " '  id: 19\\n',\n",
            " '}\\n',\n",
            " 'item {\\n',\n",
            " '  name: \"Pizza box\"\\n',\n",
            " '  id: 20\\n',\n",
            " '}\\n',\n",
            " 'item {\\n',\n",
            " '  name: \"Paper cup\"\\n',\n",
            " '  id: 21\\n',\n",
            " '}\\n',\n",
            " 'item {\\n',\n",
            " '  name: \"Disposable plastic cup\"\\n',\n",
            " '  id: 22\\n',\n",
            " '}\\n',\n",
            " 'item {\\n',\n",
            " '  name: \"Foam cup\"\\n',\n",
            " '  id: 23\\n',\n",
            " '}\\n',\n",
            " 'item {\\n',\n",
            " '  name: \"Glass cup\"\\n',\n",
            " '  id: 24\\n',\n",
            " '}\\n',\n",
            " 'item {\\n',\n",
            " '  name: \"Other plastic cup\"\\n',\n",
            " '  id: 25\\n',\n",
            " '}\\n',\n",
            " 'item {\\n',\n",
            " '  name: \"Food waste\"\\n',\n",
            " '  id: 26\\n',\n",
            " '}\\n',\n",
            " 'item {\\n',\n",
            " '  name: \"Glass jar\"\\n',\n",
            " '  id: 27\\n',\n",
            " '}\\n',\n",
            " 'item {\\n',\n",
            " '  name: \"Plastic lid\"\\n',\n",
            " '  id: 28\\n',\n",
            " '}\\n',\n",
            " 'item {\\n',\n",
            " '  name: \"Metal lid\"\\n',\n",
            " '  id: 29\\n',\n",
            " '}\\n',\n",
            " 'item {\\n',\n",
            " '  name: \"Other plastic\"\\n',\n",
            " '  id: 30\\n',\n",
            " '}\\n',\n",
            " 'item {\\n',\n",
            " '  name: \"Magazine paper\"\\n',\n",
            " '  id: 31\\n',\n",
            " '}\\n',\n",
            " 'item {\\n',\n",
            " '  name: \"Tissues\"\\n',\n",
            " '  id: 32\\n',\n",
            " '}\\n',\n",
            " 'item {\\n',\n",
            " '  name: \"Wrapping paper\"\\n',\n",
            " '  id: 33\\n',\n",
            " '}\\n',\n",
            " 'item {\\n',\n",
            " '  name: \"Normal paper\"\\n',\n",
            " '  id: 34\\n',\n",
            " '}\\n',\n",
            " 'item {\\n',\n",
            " '  name: \"Paper bag\"\\n',\n",
            " '  id: 35\\n',\n",
            " '}\\n',\n",
            " 'item {\\n',\n",
            " '  name: \"Plastified paper bag\"\\n',\n",
            " '  id: 36\\n',\n",
            " '}\\n',\n",
            " 'item {\\n',\n",
            " '  name: \"Plastic film\"\\n',\n",
            " '  id: 37\\n',\n",
            " '}\\n',\n",
            " 'item {\\n',\n",
            " '  name: \"Six pack rings\"\\n',\n",
            " '  id: 38\\n',\n",
            " '}\\n',\n",
            " 'item {\\n',\n",
            " '  name: \"Garbage bag\"\\n',\n",
            " '  id: 39\\n',\n",
            " '}\\n',\n",
            " 'item {\\n',\n",
            " '  name: \"Other plastic wrapper\"\\n',\n",
            " '  id: 40\\n',\n",
            " '}\\n',\n",
            " 'item {\\n',\n",
            " '  name: \"Single-use carrier bag\"\\n',\n",
            " '  id: 41\\n',\n",
            " '}\\n',\n",
            " 'item {\\n',\n",
            " '  name: \"Polypropylene bag\"\\n',\n",
            " '  id: 42\\n',\n",
            " '}\\n',\n",
            " 'item {\\n',\n",
            " '  name: \"Crisp packet\"\\n',\n",
            " '  id: 43\\n',\n",
            " '}\\n',\n",
            " 'item {\\n',\n",
            " '  name: \"Spread tub\"\\n',\n",
            " '  id: 44\\n',\n",
            " '}\\n',\n",
            " 'item {\\n',\n",
            " '  name: \"Tupperware\"\\n',\n",
            " '  id: 45\\n',\n",
            " '}\\n',\n",
            " 'item {\\n',\n",
            " '  name: \"Disposable food container\"\\n',\n",
            " '  id: 46\\n',\n",
            " '}\\n',\n",
            " 'item {\\n',\n",
            " '  name: \"Foam food container\"\\n',\n",
            " '  id: 47\\n',\n",
            " '}\\n',\n",
            " 'item {\\n',\n",
            " '  name: \"Other plastic container\"\\n',\n",
            " '  id: 48\\n',\n",
            " '}\\n',\n",
            " 'item {\\n',\n",
            " '  name: \"Plastic glooves\"\\n',\n",
            " '  id: 49\\n',\n",
            " '}\\n',\n",
            " 'item {\\n',\n",
            " '  name: \"Plastic utensils\"\\n',\n",
            " '  id: 50\\n',\n",
            " '}\\n',\n",
            " 'item {\\n',\n",
            " '  name: \"Pop tab\"\\n',\n",
            " '  id: 51\\n',\n",
            " '}\\n',\n",
            " 'item {\\n',\n",
            " '  name: \"Rope & strings\"\\n',\n",
            " '  id: 52\\n',\n",
            " '}\\n',\n",
            " 'item {\\n',\n",
            " '  name: \"Scrap metal\"\\n',\n",
            " '  id: 53\\n',\n",
            " '}\\n',\n",
            " 'item {\\n',\n",
            " '  name: \"Shoe\"\\n',\n",
            " '  id: 54\\n',\n",
            " '}\\n',\n",
            " 'item {\\n',\n",
            " '  name: \"Squeezable tube\"\\n',\n",
            " '  id: 55\\n',\n",
            " '}\\n',\n",
            " 'item {\\n',\n",
            " '  name: \"Plastic straw\"\\n',\n",
            " '  id: 56\\n',\n",
            " '}\\n',\n",
            " 'item {\\n',\n",
            " '  name: \"Paper straw\"\\n',\n",
            " '  id: 57\\n',\n",
            " '}\\n',\n",
            " 'item {\\n',\n",
            " '  name: \"Styrofoam piece\"\\n',\n",
            " '  id: 58\\n',\n",
            " '}\\n',\n",
            " 'item {\\n',\n",
            " '  name: \"Unlabeled litter\"\\n',\n",
            " '  id: 59\\n',\n",
            " '}\\n',\n",
            " 'item {\\n',\n",
            " '  name: \"Cigarette\"\\n',\n",
            " '  id: 60\\n',\n",
            " '}\\n']\n"
          ]
        }
      ],
      "source": [
        "print('Building label map from examples')\n",
        "\n",
        "labelmap = string_int_label_map_pb2.StringIntLabelMap()\n",
        "for idx,category in enumerate(categories):\n",
        "    item = labelmap.item.add()\n",
        "\n",
        "    item.id = int(category['id'])+1\n",
        "    item.name = category['name']\n",
        "\n",
        "with open('./labelmap.pbtxt', 'w') as f:\n",
        "    f.write(text_format.MessageToString(labelmap))\n",
        "\n",
        "print('Label map witten to labelmap.pbtxt')\n",
        "\n",
        "with open('./labelmap.pbtxt') as f:\n",
        "    pprint.pprint(f.readlines())"
      ]
    },
    {
      "cell_type": "code",
      "execution_count": null,
      "metadata": {
        "colab": {
          "base_uri": "https://localhost:8080/"
        },
        "execution": {
          "iopub.execute_input": "2020-12-23T18:45:30.242519Z",
          "iopub.status.busy": "2020-12-23T18:45:30.235301Z",
          "iopub.status.idle": "2020-12-23T18:45:30.245893Z",
          "shell.execute_reply": "2020-12-23T18:45:30.245201Z"
        },
        "id": "ynTaJf_yLKOC",
        "outputId": "bec0cdb9-4c22-4dae-9fb9-7989a8c996ce",
        "papermill": {
          "duration": 0.111607,
          "end_time": "2020-12-23T18:45:30.246012",
          "exception": false,
          "start_time": "2020-12-23T18:45:30.134405",
          "status": "completed"
        },
        "tags": []
      },
      "outputs": [
        {
          "data": {
            "text/plain": [
              "{1: {'id': 1, 'name': 'Aluminium foil'},\n",
              " 2: {'id': 2, 'name': 'Battery'},\n",
              " 3: {'id': 3, 'name': 'Aluminium blister pack'},\n",
              " 4: {'id': 4, 'name': 'Carded blister pack'},\n",
              " 5: {'id': 5, 'name': 'Other plastic bottle'},\n",
              " 6: {'id': 6, 'name': 'Clear plastic bottle'},\n",
              " 7: {'id': 7, 'name': 'Glass bottle'},\n",
              " 8: {'id': 8, 'name': 'Plastic bottle cap'},\n",
              " 9: {'id': 9, 'name': 'Metal bottle cap'},\n",
              " 10: {'id': 10, 'name': 'Broken glass'},\n",
              " 11: {'id': 11, 'name': 'Food Can'},\n",
              " 12: {'id': 12, 'name': 'Aerosol'},\n",
              " 13: {'id': 13, 'name': 'Drink can'},\n",
              " 14: {'id': 14, 'name': 'Toilet tube'},\n",
              " 15: {'id': 15, 'name': 'Other carton'},\n",
              " 16: {'id': 16, 'name': 'Egg carton'},\n",
              " 17: {'id': 17, 'name': 'Drink carton'},\n",
              " 18: {'id': 18, 'name': 'Corrugated carton'},\n",
              " 19: {'id': 19, 'name': 'Meal carton'},\n",
              " 20: {'id': 20, 'name': 'Pizza box'},\n",
              " 21: {'id': 21, 'name': 'Paper cup'},\n",
              " 22: {'id': 22, 'name': 'Disposable plastic cup'},\n",
              " 23: {'id': 23, 'name': 'Foam cup'},\n",
              " 24: {'id': 24, 'name': 'Glass cup'},\n",
              " 25: {'id': 25, 'name': 'Other plastic cup'},\n",
              " 26: {'id': 26, 'name': 'Food waste'},\n",
              " 27: {'id': 27, 'name': 'Glass jar'},\n",
              " 28: {'id': 28, 'name': 'Plastic lid'},\n",
              " 29: {'id': 29, 'name': 'Metal lid'},\n",
              " 30: {'id': 30, 'name': 'Other plastic'},\n",
              " 31: {'id': 31, 'name': 'Magazine paper'},\n",
              " 32: {'id': 32, 'name': 'Tissues'},\n",
              " 33: {'id': 33, 'name': 'Wrapping paper'},\n",
              " 34: {'id': 34, 'name': 'Normal paper'},\n",
              " 35: {'id': 35, 'name': 'Paper bag'},\n",
              " 36: {'id': 36, 'name': 'Plastified paper bag'},\n",
              " 37: {'id': 37, 'name': 'Plastic film'},\n",
              " 38: {'id': 38, 'name': 'Six pack rings'},\n",
              " 39: {'id': 39, 'name': 'Garbage bag'},\n",
              " 40: {'id': 40, 'name': 'Other plastic wrapper'},\n",
              " 41: {'id': 41, 'name': 'Single-use carrier bag'},\n",
              " 42: {'id': 42, 'name': 'Polypropylene bag'},\n",
              " 43: {'id': 43, 'name': 'Crisp packet'},\n",
              " 44: {'id': 44, 'name': 'Spread tub'},\n",
              " 45: {'id': 45, 'name': 'Tupperware'},\n",
              " 46: {'id': 46, 'name': 'Disposable food container'},\n",
              " 47: {'id': 47, 'name': 'Foam food container'},\n",
              " 48: {'id': 48, 'name': 'Other plastic container'},\n",
              " 49: {'id': 49, 'name': 'Plastic glooves'},\n",
              " 50: {'id': 50, 'name': 'Plastic utensils'},\n",
              " 51: {'id': 51, 'name': 'Pop tab'},\n",
              " 52: {'id': 52, 'name': 'Rope & strings'},\n",
              " 53: {'id': 53, 'name': 'Scrap metal'},\n",
              " 54: {'id': 54, 'name': 'Shoe'},\n",
              " 55: {'id': 55, 'name': 'Squeezable tube'},\n",
              " 56: {'id': 56, 'name': 'Plastic straw'},\n",
              " 57: {'id': 57, 'name': 'Paper straw'},\n",
              " 58: {'id': 58, 'name': 'Styrofoam piece'},\n",
              " 59: {'id': 59, 'name': 'Unlabeled litter'},\n",
              " 60: {'id': 60, 'name': 'Cigarette'}}"
            ]
          },
          "execution_count": 17,
          "metadata": {},
          "output_type": "execute_result"
        }
      ],
      "source": [
        "label_map = label_map_util.load_labelmap('labelmap.pbtxt')\n",
        "categories = label_map_util.convert_label_map_to_categories(label_map, max_num_classes=60, use_display_name=True)\n",
        "category_index = label_map_util.create_category_index(categories)\n",
        "category_index"
      ]
    },
    {
      "cell_type": "code",
      "execution_count": null,
      "metadata": {
        "id": "APZ3HMvZHopS"
      },
      "outputs": [],
      "source": [
        "# physical_devices = tf.config.experimental.list_physical_devices(\"GPU\")\n",
        "# if physical_devices:\n",
        "#     tf.config.experimental.set_memory_growth(physical_devices[0], True)"
      ]
    },
    {
      "cell_type": "code",
      "execution_count": null,
      "metadata": {
        "colab": {
          "base_uri": "https://localhost:8080/"
        },
        "id": "mJTYd5m7Fvkq",
        "outputId": "6f709dc4-9bbd-4855-aaf3-ccab93517f11"
      },
      "outputs": [
        {
          "name": "stdout",
          "output_type": "stream",
          "text": [
            "Warning: Your Kaggle API key is readable by other users on this system! To fix this, you can run 'chmod 600 /root/.kaggle/kaggle.json'\n",
            "Downloading trained-models-taco-trash-annotations-in-context.zip to /content\n",
            "100% 111M/111M [00:00<00:00, 134MB/s] \n",
            "100% 111M/111M [00:00<00:00, 118MB/s]\n"
          ]
        }
      ],
      "source": [
        "! kaggle datasets download -d bouweceunen/trained-models-taco-trash-annotations-in-context"
      ]
    },
    {
      "cell_type": "code",
      "execution_count": null,
      "metadata": {
        "id": "gOnJpRDeF2uC"
      },
      "outputs": [],
      "source": [
        "! unzip -qq /content/trained-models-taco-trash-annotations-in-context.zip"
      ]
    },
    {
      "cell_type": "code",
      "execution_count": null,
      "metadata": {
        "colab": {
          "base_uri": "https://localhost:8080/"
        },
        "execution": {
          "iopub.execute_input": "2020-12-23T18:45:30.820404Z",
          "iopub.status.busy": "2020-12-23T18:45:30.819704Z",
          "iopub.status.idle": "2020-12-23T18:45:34.402474Z",
          "shell.execute_reply": "2020-12-23T18:45:34.403019Z"
        },
        "id": "sJbllBg7LKOC",
        "outputId": "ff0fb2d4-991b-4a4d-eace-b562802592c2",
        "papermill": {
          "duration": 3.683713,
          "end_time": "2020-12-23T18:45:34.403165",
          "exception": false,
          "start_time": "2020-12-23T18:45:30.719452",
          "status": "completed"
        },
        "tags": []
      },
      "outputs": [
        {
          "name": "stdout",
          "output_type": "stream",
          "text": [
            "Reconstructing Tensorflow model\n",
            "Success!\n"
          ]
        }
      ],
      "source": [
        "detection_graph = reconstruct(\"/content/ssd_mobilenet_v2_coco_2018_03_29.pb\")"
      ]
    }
  ],
  "metadata": {
    "accelerator": "GPU",
    "colab": {
      "gpuType": "T4",
      "provenance": []
    },
    "kernelspec": {
      "display_name": "Python 3",
      "name": "python3"
    },
    "language_info": {
      "codemirror_mode": {
        "name": "ipython",
        "version": 3
      },
      "file_extension": ".py",
      "mimetype": "text/x-python",
      "name": "python",
      "nbconvert_exporter": "python",
      "pygments_lexer": "ipython3",
      "version": "3.7.6"
    },
    "papermill": {
      "duration": 258.020965,
      "end_time": "2020-12-23T18:48:24.281297",
      "environment_variables": {},
      "exception": null,
      "input_path": "__notebook__.ipynb",
      "output_path": "__notebook__.ipynb",
      "parameters": {},
      "start_time": "2020-12-23T18:44:06.260332",
      "version": "2.1.0"
    }
  },
  "nbformat": 4,
  "nbformat_minor": 0
}
